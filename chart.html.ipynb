{
 "cells": [
  {
   "cell_type": "code",
   "execution_count": 1,
   "metadata": {},
   "outputs": [
    {
     "ename": "SyntaxError",
     "evalue": "invalid syntax (<ipython-input-1-75782a9d68d6>, line 1)",
     "output_type": "error",
     "traceback": [
      "\u001b[1;36m  File \u001b[1;32m\"<ipython-input-1-75782a9d68d6>\"\u001b[1;36m, line \u001b[1;32m1\u001b[0m\n\u001b[1;33m    <html>\u001b[0m\n\u001b[1;37m    ^\u001b[0m\n\u001b[1;31mSyntaxError\u001b[0m\u001b[1;31m:\u001b[0m invalid syntax\n"
     ]
    }
   ],
   "source": [
    "<html>  \n",
    "<head>    \n",
    "    <title>Vega Scaffold</title>\n",
    "    <script src=\"http://d3js.org/d3.v3.min.js\" charset=\"utf-8\"></script>\n",
    "    <script src=\"http://d3js.org/topojson.v1.min.js\"></script>\n",
    "    <script src=\"http://d3js.org/d3.geo.projection.v0.min.js\" charset=\"utf-8\"></script>\n",
    "    <script src=\"http://trifacta.github.com/vega/vega.js\"></script>\n",
    "</head>\n",
    "<body>\n",
    "    <div id=\"vis\"></div>\n",
    "</body>\n",
    "<script type=\"text/javascript\">\n",
    "// parse a spec and create a visualization view\n",
    "function parse(spec) {\n",
    "  vg.parse.spec(spec, function(chart) { chart({el:\"#vis\"}).update(); });\n",
    "}\n",
    "parse(\"term_freq.json\");\n",
    "</script>\n",
    "</html>"
   ]
  },
  {
   "cell_type": "code",
   "execution_count": null,
   "metadata": {},
   "outputs": [],
   "source": []
  },
  {
   "cell_type": "code",
   "execution_count": null,
   "metadata": {},
   "outputs": [],
   "source": []
  }
 ],
 "metadata": {
  "kernelspec": {
   "display_name": "Python 3",
   "language": "python",
   "name": "python3"
  },
  "language_info": {
   "codemirror_mode": {
    "name": "ipython",
    "version": 3
   },
   "file_extension": ".py",
   "mimetype": "text/x-python",
   "name": "python",
   "nbconvert_exporter": "python",
   "pygments_lexer": "ipython3",
   "version": "3.7.6"
  }
 },
 "nbformat": 4,
 "nbformat_minor": 4
}
